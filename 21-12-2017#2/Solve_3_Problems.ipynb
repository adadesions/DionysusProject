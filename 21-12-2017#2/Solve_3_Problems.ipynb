{
 "cells": [
  {
   "cell_type": "markdown",
   "metadata": {},
   "source": [
    "<center><h1>3 Problems Solving</h1>\n",
    "<h2>All of these are about Number!!</h2>\n",
    "</center>\n",
    "<br>\n",
    "\n",
    "<h3>We're going to talk about interview question involve number theroy</h3>\n",
    "\n",
    "1. Prime number\n",
    "- Fibonacci number\n",
    "- Implementation"
   ]
  },
  {
   "cell_type": "markdown",
   "metadata": {},
   "source": [
    "### 1. Prime Number for $n = 10^{20}$"
   ]
  },
  {
   "cell_type": "code",
   "execution_count": 75,
   "metadata": {},
   "outputs": [
    {
     "name": "stdout",
     "output_type": "stream",
     "text": [
      "LOG\n",
      "CPU times: user 3 µs, sys: 0 ns, total: 3 µs\n",
      "Wall time: 6.91 µs\n",
      "SQRT\n",
      "CPU times: user 2 µs, sys: 0 ns, total: 2 µs\n",
      "Wall time: 4.29 µs\n"
     ]
    }
   ],
   "source": [
    "import numpy as np\n",
    "\n",
    "def regular_prime_test(n):\n",
    "    if n <= 1:\n",
    "        return False\n",
    "    elif n == 2:\n",
    "        return True\n",
    "    elif n%2 == 0:\n",
    "        return False\n",
    "    else:\n",
    "        for i in np.arange(3, n, 2):\n",
    "            if n%i == 0:\n",
    "                return False\n",
    "    return True\n",
    "\n",
    "def sqrt_prime_test(n):\n",
    "    if n <= 1:\n",
    "        return False\n",
    "    elif n == 2:\n",
    "        return True\n",
    "    elif n%2 == 0:\n",
    "        return False\n",
    "    else:\n",
    "        for i in np.arange(3, np.sqrt(n), 2):\n",
    "            if n%i == 0:\n",
    "                return False\n",
    "    return True\n",
    "\n",
    "def log_prime_test(n):\n",
    "    if n <= 1:\n",
    "        return False\n",
    "    elif n == 2:\n",
    "        return True\n",
    "    elif n%2 == 0:\n",
    "        return False\n",
    "    else:\n",
    "        sqrt_n = np.sqrt(n)\n",
    "        log_term = int(sqrt_n//np.log(sqrt_n))\n",
    "        for i in np.arange(3, log_term, 2):\n",
    "            if n%i == 0:\n",
    "                return False\n",
    "    return True\n",
    "\n",
    "my_range = 1000000\n",
    "print('LOG')\n",
    "%time\n",
    "for n in np.arange(1, my_range):\n",
    "    log_prime_test(n)\n",
    "\n",
    "print('SQRT')\n",
    "%time\n",
    "for n in np.arange(1, my_range):\n",
    "    sqrt_prime_test(n)\n",
    "\n",
    "# print('Regular')\n",
    "# %time\n",
    "# for n in np.arange(1, my_range):\n",
    "#     regular_prime_test(n)"
   ]
  },
  {
   "cell_type": "code",
   "execution_count": 41,
   "metadata": {},
   "outputs": [
    {
     "name": "stdout",
     "output_type": "stream",
     "text": [
      "4.72 µs ± 171 ns per loop (mean ± std. dev. of 7 runs, 100000 loops each)\n",
      "21.8 µs ± 149 ns per loop (mean ± std. dev. of 7 runs, 10000 loops each)\n"
     ]
    }
   ],
   "source": [
    "import numpy as np\n",
    "\n",
    "def is_prime(n, opt=True):\n",
    "    if n <= 1:\n",
    "        return False\n",
    "    elif n == 2:\n",
    "        return True\n",
    "    elif n%2 == 0:\n",
    "        return False\n",
    "    else:\n",
    "        sqrt_n = np.sqrt(n)\n",
    "        if opt:\n",
    "            apx_term = int(sqrt_n/np.log(sqrt_n))\n",
    "        else:\n",
    "            apx_term = sqrt_n\n",
    "        for i in np.arange(3, apx_term, 2):\n",
    "            if n%i == 0:\n",
    "                return False\n",
    "    return True\n",
    "\n",
    "%timeit is_prime(123456789)\n",
    "\n",
    "%timeit is_prime(123456789, False)"
   ]
  },
  {
   "cell_type": "markdown",
   "metadata": {},
   "source": [
    "### 2. Fibonacci from Binet's formula\n",
    "<img src=\"./formula.png\" />"
   ]
  },
  {
   "cell_type": "code",
   "execution_count": 84,
   "metadata": {},
   "outputs": [
    {
     "name": "stdout",
     "output_type": "stream",
     "text": [
      "CPU times: user 3 µs, sys: 0 ns, total: 3 µs\n",
      "Wall time: 5.48 µs\n",
      "1 1 2 3 5 8 13 21 34 55 89 144 233 377 610 987 1597 2584 4181 6765 10946 17711 28657 46368 75025 121393 196418 317811 514229 832040 1346269 2178309 3524578 5702887 9227465 14930352 24157817 39088169 63245986 102334155 165580141 267914296 433494437 701408733 1134903170 1836311903 2971215073 4807526976 7778742049 12586269025 20365011074 32951280099 53316291173 86267571272 139583862445 225851433717 365435296162 591286729879 956722026041 1548008755920 2504730781961 4052739537881 6557470319842 10610209857723 17167680177565 27777890035288 44945570212853 72723460248141 117669030460994 190392490709135 308061521170129 498454011879265 806515533049395 1304969544928660 2111485077978055 3416454622906715 5527939700884771 8944394323791488 14472334024676260 23416728348467744 37889062373144008 61305790721611752 99194853094755776 160500643816367552 259695496911123328 420196140727490880 679891637638614272 1100087778366105088 1779979416004719360 2880067194370824704 4660046610375544832 7540113804746369024 12200160415121913856 19740274219868282880 31940434634990198784 51680708854858489856 83621143489848688640 135301852344707186688 218922995834555891712 "
     ]
    }
   ],
   "source": [
    "def fib(n):\n",
    "    sqrt_r5 = np.sqrt(5)\n",
    "    phi = (1+sqrt_r5)/2\n",
    "    tau = 1-phi\n",
    "    result = (np.power(phi, n) - np.power(tau, n))/sqrt_r5\n",
    "    return int(result)\n",
    "\n",
    "%time\n",
    "for i in range(1, 100):\n",
    "    print(fib(i), end=\" \")"
   ]
  }
 ],
 "metadata": {
  "kernelspec": {
   "display_name": "Python 3",
   "language": "python",
   "name": "python3"
  },
  "language_info": {
   "codemirror_mode": {
    "name": "ipython",
    "version": 3
   },
   "file_extension": ".py",
   "mimetype": "text/x-python",
   "name": "python",
   "nbconvert_exporter": "python",
   "pygments_lexer": "ipython3",
   "version": "3.6.2"
  }
 },
 "nbformat": 4,
 "nbformat_minor": 2
}
