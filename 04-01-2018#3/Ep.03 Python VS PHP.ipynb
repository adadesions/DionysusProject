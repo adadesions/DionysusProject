{
 "cells": [
  {
   "cell_type": "code",
   "execution_count": 14,
   "metadata": {},
   "outputs": [
    {
     "name": "stdout",
     "output_type": "stream",
     "text": [
      "x+y = 30\n",
      "10 + 20 = 30.00\n"
     ]
    }
   ],
   "source": [
    "a = [ i for i in range(100)]\n",
    "# print(a[50:60])\n",
    "\n",
    "abc = [1, 'a', True, 1.23]\n",
    "\n",
    "mul = ['ada', 'factor']*10\n",
    "\n",
    "x, y = 10, 20\n",
    "print(\"x+y =\", x+y)\n",
    "f = \"{0} + {1} = {2}\".format(x, y, x+y)\n",
    "f2 = \"%d + %d = %.2f\"%(x, y, x+y)\n",
    "print(f2)"
   ]
  },
  {
   "cell_type": "code",
   "execution_count": 16,
   "metadata": {},
   "outputs": [
    {
     "name": "stdout",
     "output_type": "stream",
     "text": [
      "15\n"
     ]
    }
   ],
   "source": [
    "# Interview question\n",
    "def ada_sum(data):\n",
    "    sum = 0\n",
    "    for d in data:\n",
    "        if isinstance(d, list):\n",
    "            sum = sum + ada_sum(d)\n",
    "        else:\n",
    "            sum = sum + d\n",
    "    return sum\n",
    "\n",
    "print(ada_sum([1, 2, [3, 4, [5]]]))"
   ]
  }
 ],
 "metadata": {
  "kernelspec": {
   "display_name": "Python 3",
   "language": "python",
   "name": "python3"
  },
  "language_info": {
   "codemirror_mode": {
    "name": "ipython",
    "version": 3
   },
   "file_extension": ".py",
   "mimetype": "text/x-python",
   "name": "python",
   "nbconvert_exporter": "python",
   "pygments_lexer": "ipython3",
   "version": "3.6.2"
  }
 },
 "nbformat": 4,
 "nbformat_minor": 2
}
